{
 "cells": [
  {
   "cell_type": "code",
   "execution_count": 1,
   "metadata": {},
   "outputs": [],
   "source": [
    "import numpy as np\n",
    "import pandas as pd\n",
    "import matplotlib.pyplot as plt"
   ]
  },
  {
   "cell_type": "code",
   "execution_count": 44,
   "metadata": {},
   "outputs": [],
   "source": [
    "data=pd.read_csv(\"air_passenger.csv\")\n",
    "dataset_train=data"
   ]
  },
  {
   "cell_type": "code",
   "execution_count": 3,
   "metadata": {},
   "outputs": [
    {
     "data": {
      "text/html": [
       "<div>\n",
       "<style scoped>\n",
       "    .dataframe tbody tr th:only-of-type {\n",
       "        vertical-align: middle;\n",
       "    }\n",
       "\n",
       "    .dataframe tbody tr th {\n",
       "        vertical-align: top;\n",
       "    }\n",
       "\n",
       "    .dataframe thead th {\n",
       "        text-align: right;\n",
       "    }\n",
       "</style>\n",
       "<table border=\"1\" class=\"dataframe\">\n",
       "  <thead>\n",
       "    <tr style=\"text-align: right;\">\n",
       "      <th></th>\n",
       "      <th>Month</th>\n",
       "      <th>#Passengers</th>\n",
       "    </tr>\n",
       "  </thead>\n",
       "  <tbody>\n",
       "    <tr>\n",
       "      <th>0</th>\n",
       "      <td>1949-01</td>\n",
       "      <td>112</td>\n",
       "    </tr>\n",
       "    <tr>\n",
       "      <th>1</th>\n",
       "      <td>1949-02</td>\n",
       "      <td>118</td>\n",
       "    </tr>\n",
       "    <tr>\n",
       "      <th>2</th>\n",
       "      <td>1949-03</td>\n",
       "      <td>132</td>\n",
       "    </tr>\n",
       "    <tr>\n",
       "      <th>3</th>\n",
       "      <td>1949-04</td>\n",
       "      <td>129</td>\n",
       "    </tr>\n",
       "    <tr>\n",
       "      <th>4</th>\n",
       "      <td>1949-05</td>\n",
       "      <td>121</td>\n",
       "    </tr>\n",
       "    <tr>\n",
       "      <th>...</th>\n",
       "      <td>...</td>\n",
       "      <td>...</td>\n",
       "    </tr>\n",
       "    <tr>\n",
       "      <th>139</th>\n",
       "      <td>1960-08</td>\n",
       "      <td>606</td>\n",
       "    </tr>\n",
       "    <tr>\n",
       "      <th>140</th>\n",
       "      <td>1960-09</td>\n",
       "      <td>508</td>\n",
       "    </tr>\n",
       "    <tr>\n",
       "      <th>141</th>\n",
       "      <td>1960-10</td>\n",
       "      <td>461</td>\n",
       "    </tr>\n",
       "    <tr>\n",
       "      <th>142</th>\n",
       "      <td>1960-11</td>\n",
       "      <td>390</td>\n",
       "    </tr>\n",
       "    <tr>\n",
       "      <th>143</th>\n",
       "      <td>1960-12</td>\n",
       "      <td>432</td>\n",
       "    </tr>\n",
       "  </tbody>\n",
       "</table>\n",
       "<p>144 rows × 2 columns</p>\n",
       "</div>"
      ],
      "text/plain": [
       "       Month  #Passengers\n",
       "0    1949-01          112\n",
       "1    1949-02          118\n",
       "2    1949-03          132\n",
       "3    1949-04          129\n",
       "4    1949-05          121\n",
       "..       ...          ...\n",
       "139  1960-08          606\n",
       "140  1960-09          508\n",
       "141  1960-10          461\n",
       "142  1960-11          390\n",
       "143  1960-12          432\n",
       "\n",
       "[144 rows x 2 columns]"
      ]
     },
     "execution_count": 3,
     "metadata": {},
     "output_type": "execute_result"
    }
   ],
   "source": [
    "data"
   ]
  },
  {
   "cell_type": "code",
   "execution_count": 4,
   "metadata": {},
   "outputs": [
    {
     "data": {
      "text/html": [
       "<div>\n",
       "<style scoped>\n",
       "    .dataframe tbody tr th:only-of-type {\n",
       "        vertical-align: middle;\n",
       "    }\n",
       "\n",
       "    .dataframe tbody tr th {\n",
       "        vertical-align: top;\n",
       "    }\n",
       "\n",
       "    .dataframe thead th {\n",
       "        text-align: right;\n",
       "    }\n",
       "</style>\n",
       "<table border=\"1\" class=\"dataframe\">\n",
       "  <thead>\n",
       "    <tr style=\"text-align: right;\">\n",
       "      <th></th>\n",
       "      <th>Month</th>\n",
       "      <th>Passenger</th>\n",
       "    </tr>\n",
       "  </thead>\n",
       "  <tbody>\n",
       "    <tr>\n",
       "      <th>0</th>\n",
       "      <td>1949-01-01</td>\n",
       "      <td>112</td>\n",
       "    </tr>\n",
       "    <tr>\n",
       "      <th>1</th>\n",
       "      <td>1949-02-01</td>\n",
       "      <td>118</td>\n",
       "    </tr>\n",
       "    <tr>\n",
       "      <th>2</th>\n",
       "      <td>1949-03-01</td>\n",
       "      <td>132</td>\n",
       "    </tr>\n",
       "    <tr>\n",
       "      <th>3</th>\n",
       "      <td>1949-04-01</td>\n",
       "      <td>129</td>\n",
       "    </tr>\n",
       "    <tr>\n",
       "      <th>4</th>\n",
       "      <td>1949-05-01</td>\n",
       "      <td>121</td>\n",
       "    </tr>\n",
       "  </tbody>\n",
       "</table>\n",
       "</div>"
      ],
      "text/plain": [
       "       Month  Passenger\n",
       "0 1949-01-01        112\n",
       "1 1949-02-01        118\n",
       "2 1949-03-01        132\n",
       "3 1949-04-01        129\n",
       "4 1949-05-01        121"
      ]
     },
     "execution_count": 4,
     "metadata": {},
     "output_type": "execute_result"
    }
   ],
   "source": [
    "data['Month'] = pd.to_datetime(data['Month'])\n",
    "data.columns = ['Month','Passenger']\n",
    "data.head()"
   ]
  },
  {
   "cell_type": "code",
   "execution_count": 5,
   "metadata": {},
   "outputs": [
    {
     "data": {
      "text/plain": [
       "(144, 2)"
      ]
     },
     "execution_count": 5,
     "metadata": {},
     "output_type": "execute_result"
    }
   ],
   "source": [
    "data.shape"
   ]
  },
  {
   "cell_type": "code",
   "execution_count": 6,
   "metadata": {},
   "outputs": [
    {
     "data": {
      "text/plain": [
       "Month        False\n",
       "Passenger    False\n",
       "dtype: bool"
      ]
     },
     "execution_count": 6,
     "metadata": {},
     "output_type": "execute_result"
    }
   ],
   "source": [
    "data.isnull().any()"
   ]
  },
  {
   "cell_type": "markdown",
   "metadata": {},
   "source": [
    "Line Plot"
   ]
  },
  {
   "cell_type": "code",
   "execution_count": 7,
   "metadata": {},
   "outputs": [
    {
     "data": {
      "text/plain": [
       "Text(0, 0.5, 'No. of Passengers')"
      ]
     },
     "execution_count": 7,
     "metadata": {},
     "output_type": "execute_result"
    },
    {
     "data": {
      "image/png": "[encoded data removed]",
      "text/plain": [
       "<Figure size 1080x432 with 1 Axes>"
      ]
     },
     "metadata": {
      "needs_background": "light"
     },
     "output_type": "display_data"
    }
   ],
   "source": [
    "data.plot(x='Month',y='Passenger',figsize=(15,6),linestyle='--', marker='*', markerfacecolor='r',color='y',markersize=10)\n",
    "plt.xlabel('Years')\n",
    "plt.ylabel('No. of Passengers')"
   ]
  },
  {
   "cell_type": "markdown",
   "metadata": {},
   "source": [
    "Lag Plot"
   ]
  },
  {
   "cell_type": "code",
   "execution_count": 8,
   "metadata": {
    "scrolled": true
   },
   "outputs": [
    {
     "data": {
      "text/plain": [
       "<matplotlib.axes._subplots.AxesSubplot at 0x26c01913848>"
      ]
     },
     "execution_count": 8,
     "metadata": {},
     "output_type": "execute_result"
    },
    {
     "data": {
      "image/png": "[encoded data removed]",
      "text/plain": [
       "<Figure size 432x288 with 1 Axes>"
      ]
     },
     "metadata": {
      "needs_background": "light"
     },
     "output_type": "display_data"
    }
   ],
   "source": [
    "pd.plotting.lag_plot(data['Passenger'])"
   ]
  },
  {
   "cell_type": "code",
   "execution_count": 9,
   "metadata": {},
   "outputs": [
    {
     "data": {
      "text/html": [
       "<div>\n",
       "<style scoped>\n",
       "    .dataframe tbody tr th:only-of-type {\n",
       "        vertical-align: middle;\n",
       "    }\n",
       "\n",
       "    .dataframe tbody tr th {\n",
       "        vertical-align: top;\n",
       "    }\n",
       "\n",
       "    .dataframe thead th {\n",
       "        text-align: right;\n",
       "    }\n",
       "</style>\n",
       "<table border=\"1\" class=\"dataframe\">\n",
       "  <thead>\n",
       "    <tr style=\"text-align: right;\">\n",
       "      <th></th>\n",
       "      <th>Month</th>\n",
       "      <th>Passenger</th>\n",
       "      <th>Month_name</th>\n",
       "      <th>Year</th>\n",
       "    </tr>\n",
       "  </thead>\n",
       "  <tbody>\n",
       "    <tr>\n",
       "      <th>0</th>\n",
       "      <td>1949-01-01</td>\n",
       "      <td>112</td>\n",
       "      <td>1</td>\n",
       "      <td>1949</td>\n",
       "    </tr>\n",
       "    <tr>\n",
       "      <th>1</th>\n",
       "      <td>1949-02-01</td>\n",
       "      <td>118</td>\n",
       "      <td>2</td>\n",
       "      <td>1949</td>\n",
       "    </tr>\n",
       "    <tr>\n",
       "      <th>2</th>\n",
       "      <td>1949-03-01</td>\n",
       "      <td>132</td>\n",
       "      <td>3</td>\n",
       "      <td>1949</td>\n",
       "    </tr>\n",
       "    <tr>\n",
       "      <th>3</th>\n",
       "      <td>1949-04-01</td>\n",
       "      <td>129</td>\n",
       "      <td>4</td>\n",
       "      <td>1949</td>\n",
       "    </tr>\n",
       "    <tr>\n",
       "      <th>4</th>\n",
       "      <td>1949-05-01</td>\n",
       "      <td>121</td>\n",
       "      <td>5</td>\n",
       "      <td>1949</td>\n",
       "    </tr>\n",
       "  </tbody>\n",
       "</table>\n",
       "</div>"
      ],
      "text/plain": [
       "       Month  Passenger  Month_name  Year\n",
       "0 1949-01-01        112           1  1949\n",
       "1 1949-02-01        118           2  1949\n",
       "2 1949-03-01        132           3  1949\n",
       "3 1949-04-01        129           4  1949\n",
       "4 1949-05-01        121           5  1949"
      ]
     },
     "execution_count": 9,
     "metadata": {},
     "output_type": "execute_result"
    }
   ],
   "source": [
    "data['Month_name']=data['Month'].dt.month\n",
    "data['Year']=data['Month'].dt.year\n",
    "data.head()"
   ]
  },
  {
   "cell_type": "markdown",
   "metadata": {},
   "source": [
    "Heatmap"
   ]
  },
  {
   "cell_type": "code",
   "execution_count": 10,
   "metadata": {},
   "outputs": [
    {
     "data": {
      "text/plain": [
       "(array([[21.,  3.,  0.,  0.,  0.,  0.,  0.,  0.,  0.,  0.],\n",
       "        [ 3.,  9.,  0.,  0.,  0.,  0.,  0.,  0.,  0.,  0.],\n",
       "        [ 0.,  8.,  4.,  0.,  0.,  0.,  0.,  0.,  0.,  0.],\n",
       "        [ 0.,  4.,  6.,  2.,  0.,  0.,  0.,  0.,  0.,  0.],\n",
       "        [ 0.,  3.,  6.,  3.,  0.,  0.,  0.,  0.,  0.,  0.],\n",
       "        [ 0.,  0.,  3.,  5.,  3.,  1.,  0.,  0.,  0.,  0.],\n",
       "        [ 0.,  0.,  0.,  5.,  4.,  3.,  0.,  0.,  0.,  0.],\n",
       "        [ 0.,  0.,  0.,  2.,  6.,  1.,  2.,  1.,  0.,  0.],\n",
       "        [ 0.,  0.,  0.,  1.,  6.,  2.,  1.,  2.,  0.,  0.],\n",
       "        [ 0.,  0.,  0.,  0.,  3.,  6.,  7.,  3.,  3.,  2.]]),\n",
       " array([1949. , 1950.1, 1951.2, 1952.3, 1953.4, 1954.5, 1955.6, 1956.7,\n",
       "        1957.8, 1958.9, 1960. ]),\n",
       " array([104. , 155.8, 207.6, 259.4, 311.2, 363. , 414.8, 466.6, 518.4,\n",
       "        570.2, 622. ]),\n",
       " <matplotlib.collections.QuadMesh at 0x26c017d35c8>)"
      ]
     },
     "execution_count": 10,
     "metadata": {},
     "output_type": "execute_result"
    },
    {
     "data": {
      "image/png": "[encoded data removed]",
      "text/plain": [
       "<Figure size 432x288 with 1 Axes>"
      ]
     },
     "metadata": {
      "needs_background": "light"
     },
     "output_type": "display_data"
    }
   ],
   "source": [
    "x=data['Year']\n",
    "y=data['Passenger']\n",
    "plt.hist2d(x, y)"
   ]
  },
  {
   "cell_type": "markdown",
   "metadata": {},
   "source": [
    "Hexbin Plot"
   ]
  },
  {
   "cell_type": "code",
   "execution_count": 11,
   "metadata": {},
   "outputs": [
    {
     "data": {
      "text/plain": [
       "<matplotlib.axes._subplots.AxesSubplot at 0x26c017f7688>"
      ]
     },
     "execution_count": 11,
     "metadata": {},
     "output_type": "execute_result"
    },
    {
     "data": {
      "image/png": "[encoded data removed]",
      "text/plain": [
       "<Figure size 432x288 with 2 Axes>"
      ]
     },
     "metadata": {
      "needs_background": "light"
     },
     "output_type": "display_data"
    }
   ],
   "source": [
    "data.plot.hexbin(x='Year',y='Passenger',gridsize=20)"
   ]
  },
  {
   "cell_type": "markdown",
   "metadata": {},
   "source": [
    "Boxplot"
   ]
  },
  {
   "cell_type": "code",
   "execution_count": 12,
   "metadata": {},
   "outputs": [
    {
     "data": {
      "image/png": "[encoded data removed]",
      "text/plain": [
       "<Figure size 1080x432 with 1 Axes>"
      ]
     },
     "metadata": {
      "needs_background": "light"
     },
     "output_type": "display_data"
    }
   ],
   "source": [
    "a=data.boxplot(figsize=(15,6),by='Year',column='Passenger')"
   ]
  },
  {
   "cell_type": "code",
   "execution_count": 123,
   "metadata": {},
   "outputs": [],
   "source": [
    "train_set=dataset_train.iloc[:,1:2]\n",
    "from sklearn.preprocessing import MinMaxScaler\n",
    "sc = MinMaxScaler()\n",
    "#train_set=train_set.append({'#Passengers':121},ignore_index=True)\n",
    "scaled_training=sc.fit_transform(train_set)"
   ]
  },
  {
   "cell_type": "code",
   "execution_count": 124,
   "metadata": {},
   "outputs": [
    {
     "data": {
      "text/plain": [
       "array([[0.01544402],\n",
       "       [0.02702703],\n",
       "       [0.05405405],\n",
       "       [0.04826255],\n",
       "       [0.03281853],\n",
       "       [0.05984556],\n",
       "       [0.08494208],\n",
       "       [0.08494208],\n",
       "       [0.06177606],\n",
       "       [0.02895753],\n",
       "       [0.        ],\n",
       "       [0.02702703],\n",
       "       [0.02123552],\n",
       "       [0.04247104],\n",
       "       [0.07142857],\n",
       "       [0.05984556],\n",
       "       [0.04054054],\n",
       "       [0.08687259],\n",
       "       [0.12741313],\n",
       "       [0.12741313],\n",
       "       [0.1042471 ],\n",
       "       [0.05598456],\n",
       "       [0.01930502],\n",
       "       [0.06949807],\n",
       "       [0.07915058],\n",
       "       [0.08880309],\n",
       "       [0.14285714],\n",
       "       [0.11389961],\n",
       "       [0.13127413],\n",
       "       [0.14285714],\n",
       "       [0.18339768],\n",
       "       [0.18339768],\n",
       "       [0.15444015],\n",
       "       [0.11196911],\n",
       "       [0.08108108],\n",
       "       [0.11969112],\n",
       "       [0.12934363],\n",
       "       [0.14671815],\n",
       "       [0.17181467],\n",
       "       [0.14864865],\n",
       "       [0.15250965],\n",
       "       [0.22007722],\n",
       "       [0.24324324],\n",
       "       [0.26640927],\n",
       "       [0.2027027 ],\n",
       "       [0.16795367],\n",
       "       [0.13127413],\n",
       "       [0.17374517],\n",
       "       [0.17760618],\n",
       "       [0.17760618],\n",
       "       [0.25482625],\n",
       "       [0.25289575],\n",
       "       [0.24131274],\n",
       "       [0.26833977],\n",
       "       [0.30888031],\n",
       "       [0.32432432],\n",
       "       [0.25675676],\n",
       "       [0.20656371],\n",
       "       [0.14671815],\n",
       "       [0.18725869],\n",
       "       [0.19305019],\n",
       "       [0.16216216],\n",
       "       [0.25289575],\n",
       "       [0.23745174],\n",
       "       [0.25096525],\n",
       "       [0.30888031],\n",
       "       [0.38223938],\n",
       "       [0.36486486],\n",
       "       [0.2992278 ],\n",
       "       [0.24131274],\n",
       "       [0.19111969],\n",
       "       [0.24131274],\n",
       "       [0.26640927],\n",
       "       [0.24903475],\n",
       "       [0.31467181],\n",
       "       [0.31853282],\n",
       "       [0.32046332],\n",
       "       [0.40733591],\n",
       "       [0.5019305 ],\n",
       "       [0.46911197],\n",
       "       [0.4015444 ],\n",
       "       [0.32818533],\n",
       "       [0.25675676],\n",
       "       [0.33590734],\n",
       "       [0.34749035],\n",
       "       [0.33397683],\n",
       "       [0.41119691],\n",
       "       [0.4034749 ],\n",
       "       [0.41312741],\n",
       "       [0.52123552],\n",
       "       [0.5965251 ],\n",
       "       [0.58108108],\n",
       "       [0.48455598],\n",
       "       [0.38996139],\n",
       "       [0.32239382],\n",
       "       [0.38996139],\n",
       "       [0.40733591],\n",
       "       [0.38030888],\n",
       "       [0.48648649],\n",
       "       [0.47104247],\n",
       "       [0.48455598],\n",
       "       [0.61389961],\n",
       "       [0.6969112 ],\n",
       "       [0.7007722 ],\n",
       "       [0.57915058],\n",
       "       [0.46911197],\n",
       "       [0.38803089],\n",
       "       [0.44787645],\n",
       "       [0.45559846],\n",
       "       [0.41312741],\n",
       "       [0.4980695 ],\n",
       "       [0.47104247],\n",
       "       [0.5       ],\n",
       "       [0.63899614],\n",
       "       [0.74710425],\n",
       "       [0.77413127],\n",
       "       [0.57915058],\n",
       "       [0.49227799],\n",
       "       [0.3976834 ],\n",
       "       [0.44980695],\n",
       "       [0.49420849],\n",
       "       [0.45945946],\n",
       "       [0.58301158],\n",
       "       [0.56370656],\n",
       "       [0.61003861],\n",
       "       [0.71042471],\n",
       "       [0.85714286],\n",
       "       [0.87837838],\n",
       "       [0.69305019],\n",
       "       [0.58494208],\n",
       "       [0.4980695 ],\n",
       "       [0.58108108],\n",
       "       [0.6042471 ],\n",
       "       [0.55405405],\n",
       "       [0.60810811],\n",
       "       [0.68918919],\n",
       "       [0.71042471],\n",
       "       [0.83204633],\n",
       "       [1.        ],\n",
       "       [0.96911197],\n",
       "       [0.77992278],\n",
       "       [0.68918919],\n",
       "       [0.55212355],\n",
       "       [0.63320463]])"
      ]
     },
     "execution_count": 124,
     "metadata": {},
     "output_type": "execute_result"
    }
   ],
   "source": [
    "scaled_training"
   ]
  },
  {
   "cell_type": "code",
   "execution_count": 15,
   "metadata": {},
   "outputs": [],
   "source": [
    "x_train=[]\n",
    "y_train=[]\n",
    "\n",
    "for i in range(142):\n",
    "    x_train.append(scaled_training[i:i+1,0])\n",
    "    y_train.append(scaled_training[i:(i+1),0])\n",
    "    \n",
    "\n",
    "x_train,y_train=np.array(x_train),np.array(y_train)\n",
    "\n",
    "\n",
    "x_train = np.reshape(x_train, (x_train.shape[0], 1, x_train.shape[1]))\n"
   ]
  },
  {
   "cell_type": "code",
   "execution_count": 16,
   "metadata": {},
   "outputs": [
    {
     "name": "stderr",
     "output_type": "stream",
     "text": [
      "Using TensorFlow backend.\n",
      "C:\\Users\\Goutham N\\anaconda3\\lib\\site-packages\\tensorflow\\python\\framework\\dtypes.py:516: FutureWarning: Passing (type, 1) or '1type' as a synonym of type is deprecated; in a future version of numpy, it will be understood as (type, (1,)) / '(1,)type'.\n",
      "  _np_qint8 = np.dtype([(\"qint8\", np.int8, 1)])\n",
      "C:\\Users\\Goutham N\\anaconda3\\lib\\site-packages\\tensorflow\\python\\framework\\dtypes.py:517: FutureWarning: Passing (type, 1) or '1type' as a synonym of type is deprecated; in a future version of numpy, it will be understood as (type, (1,)) / '(1,)type'.\n",
      "  _np_quint8 = np.dtype([(\"quint8\", np.uint8, 1)])\n",
      "C:\\Users\\Goutham N\\anaconda3\\lib\\site-packages\\tensorflow\\python\\framework\\dtypes.py:518: FutureWarning: Passing (type, 1) or '1type' as a synonym of type is deprecated; in a future version of numpy, it will be understood as (type, (1,)) / '(1,)type'.\n",
      "  _np_qint16 = np.dtype([(\"qint16\", np.int16, 1)])\n",
      "C:\\Users\\Goutham N\\anaconda3\\lib\\site-packages\\tensorflow\\python\\framework\\dtypes.py:519: FutureWarning: Passing (type, 1) or '1type' as a synonym of type is deprecated; in a future version of numpy, it will be understood as (type, (1,)) / '(1,)type'.\n",
      "  _np_quint16 = np.dtype([(\"quint16\", np.uint16, 1)])\n",
      "C:\\Users\\Goutham N\\anaconda3\\lib\\site-packages\\tensorflow\\python\\framework\\dtypes.py:520: FutureWarning: Passing (type, 1) or '1type' as a synonym of type is deprecated; in a future version of numpy, it will be understood as (type, (1,)) / '(1,)type'.\n",
      "  _np_qint32 = np.dtype([(\"qint32\", np.int32, 1)])\n",
      "C:\\Users\\Goutham N\\anaconda3\\lib\\site-packages\\tensorflow\\python\\framework\\dtypes.py:525: FutureWarning: Passing (type, 1) or '1type' as a synonym of type is deprecated; in a future version of numpy, it will be understood as (type, (1,)) / '(1,)type'.\n",
      "  np_resource = np.dtype([(\"resource\", np.ubyte, 1)])\n",
      "C:\\Users\\Goutham N\\anaconda3\\lib\\site-packages\\tensorboard\\compat\\tensorflow_stub\\dtypes.py:541: FutureWarning: Passing (type, 1) or '1type' as a synonym of type is deprecated; in a future version of numpy, it will be understood as (type, (1,)) / '(1,)type'.\n",
      "  _np_qint8 = np.dtype([(\"qint8\", np.int8, 1)])\n",
      "C:\\Users\\Goutham N\\anaconda3\\lib\\site-packages\\tensorboard\\compat\\tensorflow_stub\\dtypes.py:542: FutureWarning: Passing (type, 1) or '1type' as a synonym of type is deprecated; in a future version of numpy, it will be understood as (type, (1,)) / '(1,)type'.\n",
      "  _np_quint8 = np.dtype([(\"quint8\", np.uint8, 1)])\n",
      "C:\\Users\\Goutham N\\anaconda3\\lib\\site-packages\\tensorboard\\compat\\tensorflow_stub\\dtypes.py:543: FutureWarning: Passing (type, 1) or '1type' as a synonym of type is deprecated; in a future version of numpy, it will be understood as (type, (1,)) / '(1,)type'.\n",
      "  _np_qint16 = np.dtype([(\"qint16\", np.int16, 1)])\n",
      "C:\\Users\\Goutham N\\anaconda3\\lib\\site-packages\\tensorboard\\compat\\tensorflow_stub\\dtypes.py:544: FutureWarning: Passing (type, 1) or '1type' as a synonym of type is deprecated; in a future version of numpy, it will be understood as (type, (1,)) / '(1,)type'.\n",
      "  _np_quint16 = np.dtype([(\"quint16\", np.uint16, 1)])\n",
      "C:\\Users\\Goutham N\\anaconda3\\lib\\site-packages\\tensorboard\\compat\\tensorflow_stub\\dtypes.py:545: FutureWarning: Passing (type, 1) or '1type' as a synonym of type is deprecated; in a future version of numpy, it will be understood as (type, (1,)) / '(1,)type'.\n",
      "  _np_qint32 = np.dtype([(\"qint32\", np.int32, 1)])\n",
      "C:\\Users\\Goutham N\\anaconda3\\lib\\site-packages\\tensorboard\\compat\\tensorflow_stub\\dtypes.py:550: FutureWarning: Passing (type, 1) or '1type' as a synonym of type is deprecated; in a future version of numpy, it will be understood as (type, (1,)) / '(1,)type'.\n",
      "  np_resource = np.dtype([(\"resource\", np.ubyte, 1)])\n"
     ]
    }
   ],
   "source": [
    "from keras.models import Sequential\n",
    "from keras.layers import Dense\n",
    "from keras.layers import LSTM"
   ]
  },
  {
   "cell_type": "code",
   "execution_count": 17,
   "metadata": {},
   "outputs": [
    {
     "name": "stdout",
     "output_type": "stream",
     "text": [
      "WARNING:tensorflow:From C:\\Users\\Goutham N\\anaconda3\\lib\\site-packages\\keras\\backend\\tensorflow_backend.py:74: The name tf.get_default_graph is deprecated. Please use tf.compat.v1.get_default_graph instead.\n",
      "\n",
      "WARNING:tensorflow:From C:\\Users\\Goutham N\\anaconda3\\lib\\site-packages\\keras\\backend\\tensorflow_backend.py:517: The name tf.placeholder is deprecated. Please use tf.compat.v1.placeholder instead.\n",
      "\n",
      "WARNING:tensorflow:From C:\\Users\\Goutham N\\anaconda3\\lib\\site-packages\\keras\\backend\\tensorflow_backend.py:4138: The name tf.random_uniform is deprecated. Please use tf.random.uniform instead.\n",
      "\n",
      "WARNING:tensorflow:From C:\\Users\\Goutham N\\anaconda3\\lib\\site-packages\\keras\\optimizers.py:790: The name tf.train.Optimizer is deprecated. Please use tf.compat.v1.train.Optimizer instead.\n",
      "\n",
      "WARNING:tensorflow:From C:\\Users\\Goutham N\\anaconda3\\lib\\site-packages\\tensorflow\\python\\ops\\math_grad.py:1250: add_dispatch_support.<locals>.wrapper (from tensorflow.python.ops.array_ops) is deprecated and will be removed in a future version.\n",
      "Instructions for updating:\n",
      "Use tf.where in 2.0, which has the same broadcast rule as np.where\n",
      "WARNING:tensorflow:From C:\\Users\\Goutham N\\anaconda3\\lib\\site-packages\\keras\\backend\\tensorflow_backend.py:986: The name tf.assign_add is deprecated. Please use tf.compat.v1.assign_add instead.\n",
      "\n",
      "WARNING:tensorflow:From C:\\Users\\Goutham N\\anaconda3\\lib\\site-packages\\keras\\backend\\tensorflow_backend.py:973: The name tf.assign is deprecated. Please use tf.compat.v1.assign instead.\n",
      "\n",
      "Epoch 1/100\n",
      "142/142 [==============================] - 1s 6ms/step - loss: 0.1093\n",
      "Epoch 2/100\n",
      "142/142 [==============================] - 0s 2ms/step - loss: 0.0484\n",
      "Epoch 3/100\n",
      "142/142 [==============================] - 0s 3ms/step - loss: 0.0332\n",
      "Epoch 4/100\n",
      "142/142 [==============================] - 0s 3ms/step - loss: 0.0284\n",
      "Epoch 5/100\n",
      "142/142 [==============================] - 0s 2ms/step - loss: 0.0239\n",
      "Epoch 6/100\n",
      "142/142 [==============================] - 0s 2ms/step - loss: 0.0193\n",
      "Epoch 7/100\n",
      "142/142 [==============================] - 0s 2ms/step - loss: 0.0150\n",
      "Epoch 8/100\n",
      "142/142 [==============================] - 0s 2ms/step - loss: 0.0111\n",
      "Epoch 9/100\n",
      "142/142 [==============================] - 0s 2ms/step - loss: 0.0073\n",
      "Epoch 10/100\n",
      "142/142 [==============================] - 0s 2ms/step - loss: 0.0044\n",
      "Epoch 11/100\n",
      "142/142 [==============================] - 0s 2ms/step - loss: 0.0024\n",
      "Epoch 12/100\n",
      "142/142 [==============================] - 0s 2ms/step - loss: 0.0012\n",
      "Epoch 13/100\n",
      "142/142 [==============================] - 0s 2ms/step - loss: 5.5643e-04\n",
      "Epoch 14/100\n",
      "142/142 [==============================] - 0s 2ms/step - loss: 2.9823e-04\n",
      "Epoch 15/100\n",
      "142/142 [==============================] - 0s 2ms/step - loss: 2.0755e-04\n",
      "Epoch 16/100\n",
      "142/142 [==============================] - 0s 2ms/step - loss: 1.8333e-04\n",
      "Epoch 17/100\n",
      "142/142 [==============================] - 0s 2ms/step - loss: 1.6776e-04\n",
      "Epoch 18/100\n",
      "142/142 [==============================] - 0s 2ms/step - loss: 1.6299e-04\n",
      "Epoch 19/100\n",
      "142/142 [==============================] - 0s 2ms/step - loss: 1.6254e-04\n",
      "Epoch 20/100\n",
      "142/142 [==============================] - 0s 2ms/step - loss: 1.5154e-04\n",
      "Epoch 21/100\n",
      "142/142 [==============================] - 0s 2ms/step - loss: 1.4108e-04\n",
      "Epoch 22/100\n",
      "142/142 [==============================] - 0s 2ms/step - loss: 1.3692e-04\n",
      "Epoch 23/100\n",
      "142/142 [==============================] - 0s 2ms/step - loss: 1.3268e-04\n",
      "Epoch 24/100\n",
      "142/142 [==============================] - 0s 3ms/step - loss: 1.1785e-04\n",
      "Epoch 25/100\n",
      "142/142 [==============================] - 0s 3ms/step - loss: 1.1667e-04\n",
      "Epoch 26/100\n",
      "142/142 [==============================] - 0s 3ms/step - loss: 1.0692e-04\n",
      "Epoch 27/100\n",
      "142/142 [==============================] - 0s 2ms/step - loss: 9.7825e-05\n",
      "Epoch 28/100\n",
      "142/142 [==============================] - 0s 2ms/step - loss: 9.5754e-05\n",
      "Epoch 29/100\n",
      "142/142 [==============================] - 0s 2ms/step - loss: 8.9035e-05\n",
      "Epoch 30/100\n",
      "142/142 [==============================] - 0s 2ms/step - loss: 8.1894e-05\n",
      "Epoch 31/100\n",
      "142/142 [==============================] - 0s 2ms/step - loss: 7.9504e-05\n",
      "Epoch 32/100\n",
      "142/142 [==============================] - 0s 2ms/step - loss: 6.9822e-05\n",
      "Epoch 33/100\n",
      "142/142 [==============================] - 0s 2ms/step - loss: 6.1085e-05\n",
      "Epoch 34/100\n",
      "142/142 [==============================] - 0s 2ms/step - loss: 5.9618e-05\n",
      "Epoch 35/100\n",
      "142/142 [==============================] - 0s 2ms/step - loss: 5.2458e-05\n",
      "Epoch 36/100\n",
      "142/142 [==============================] - 0s 2ms/step - loss: 4.7729e-05\n",
      "Epoch 37/100\n",
      "142/142 [==============================] - 0s 2ms/step - loss: 4.2019e-05\n",
      "Epoch 38/100\n",
      "142/142 [==============================] - 0s 2ms/step - loss: 4.1674e-05\n",
      "Epoch 39/100\n",
      "142/142 [==============================] - 0s 2ms/step - loss: 3.6973e-05\n",
      "Epoch 40/100\n",
      "142/142 [==============================] - 0s 2ms/step - loss: 3.0365e-05\n",
      "Epoch 41/100\n",
      "142/142 [==============================] - 0s 2ms/step - loss: 2.7832e-05\n",
      "Epoch 42/100\n",
      "142/142 [==============================] - 0s 2ms/step - loss: 2.5924e-05\n",
      "Epoch 43/100\n",
      "142/142 [==============================] - 0s 2ms/step - loss: 2.0543e-05\n",
      "Epoch 44/100\n",
      "142/142 [==============================] - 0s 2ms/step - loss: 1.9218e-05\n",
      "Epoch 45/100\n",
      "142/142 [==============================] - 0s 2ms/step - loss: 1.7045e-05\n",
      "Epoch 46/100\n",
      "142/142 [==============================] - 0s 2ms/step - loss: 1.6499e-05\n",
      "Epoch 47/100\n",
      "142/142 [==============================] - 0s 2ms/step - loss: 1.5550e-05\n",
      "Epoch 48/100\n",
      "142/142 [==============================] - 0s 2ms/step - loss: 1.4930e-05\n",
      "Epoch 49/100\n",
      "142/142 [==============================] - 0s 2ms/step - loss: 1.2632e-05\n",
      "Epoch 50/100\n",
      "142/142 [==============================] - 0s 2ms/step - loss: 1.1718e-05\n",
      "Epoch 51/100\n",
      "142/142 [==============================] - 0s 2ms/step - loss: 1.1422e-05\n",
      "Epoch 52/100\n",
      "142/142 [==============================] - 0s 2ms/step - loss: 1.3028e-05\n",
      "Epoch 53/100\n",
      "142/142 [==============================] - 0s 2ms/step - loss: 1.3116e-05\n",
      "Epoch 54/100\n",
      "142/142 [==============================] - 0s 2ms/step - loss: 1.2325e-05\n",
      "Epoch 55/100\n",
      "142/142 [==============================] - 0s 2ms/step - loss: 1.2618e-05\n",
      "Epoch 56/100\n",
      "142/142 [==============================] - 0s 2ms/step - loss: 1.4753e-05\n",
      "Epoch 57/100\n",
      "142/142 [==============================] - 0s 2ms/step - loss: 1.3187e-05\n",
      "Epoch 58/100\n",
      "142/142 [==============================] - 0s 2ms/step - loss: 1.1809e-05\n",
      "Epoch 59/100\n",
      "142/142 [==============================] - 0s 2ms/step - loss: 1.1897e-05\n",
      "Epoch 60/100\n",
      "142/142 [==============================] - 0s 2ms/step - loss: 1.2894e-05\n",
      "Epoch 61/100\n",
      "142/142 [==============================] - 0s 2ms/step - loss: 1.0955e-05\n",
      "Epoch 62/100\n",
      "142/142 [==============================] - 0s 2ms/step - loss: 1.0747e-05\n",
      "Epoch 63/100\n",
      "142/142 [==============================] - 0s 2ms/step - loss: 1.1612e-05\n",
      "Epoch 64/100\n",
      "142/142 [==============================] - 0s 2ms/step - loss: 1.4152e-05\n",
      "Epoch 65/100\n",
      "142/142 [==============================] - 0s 2ms/step - loss: 1.3056e-05\n",
      "Epoch 66/100\n",
      "142/142 [==============================] - 0s 2ms/step - loss: 1.2587e-05\n",
      "Epoch 67/100\n",
      "142/142 [==============================] - 0s 2ms/step - loss: 1.2879e-05\n",
      "Epoch 68/100\n",
      "142/142 [==============================] - 0s 2ms/step - loss: 1.3916e-05\n",
      "Epoch 69/100\n",
      "142/142 [==============================] - 0s 2ms/step - loss: 1.3138e-05\n",
      "Epoch 70/100\n",
      "142/142 [==============================] - 0s 2ms/step - loss: 1.6783e-05\n",
      "Epoch 71/100\n",
      "142/142 [==============================] - 0s 2ms/step - loss: 1.3420e-05\n",
      "Epoch 72/100\n",
      "142/142 [==============================] - 0s 2ms/step - loss: 1.1729e-05\n",
      "Epoch 73/100\n",
      "142/142 [==============================] - 0s 2ms/step - loss: 1.3585e-05\n",
      "Epoch 74/100\n",
      "142/142 [==============================] - 0s 2ms/step - loss: 1.7066e-05\n",
      "Epoch 75/100\n",
      "142/142 [==============================] - 0s 2ms/step - loss: 1.1112e-05\n",
      "Epoch 76/100\n",
      "142/142 [==============================] - 0s 2ms/step - loss: 1.5195e-05\n",
      "Epoch 77/100\n",
      "142/142 [==============================] - 0s 2ms/step - loss: 1.7576e-05\n",
      "Epoch 78/100\n"
     ]
    },
    {
     "name": "stdout",
     "output_type": "stream",
     "text": [
      "142/142 [==============================] - 0s 2ms/step - loss: 1.1604e-05\n",
      "Epoch 79/100\n",
      "142/142 [==============================] - 0s 2ms/step - loss: 1.2047e-05\n",
      "Epoch 80/100\n",
      "142/142 [==============================] - 0s 2ms/step - loss: 1.3436e-05\n",
      "Epoch 81/100\n",
      "142/142 [==============================] - 0s 2ms/step - loss: 1.1804e-05\n",
      "Epoch 82/100\n",
      "142/142 [==============================] - 0s 2ms/step - loss: 9.2289e-06\n",
      "Epoch 83/100\n",
      "142/142 [==============================] - 0s 2ms/step - loss: 9.6112e-06\n",
      "Epoch 84/100\n",
      "142/142 [==============================] - 0s 2ms/step - loss: 1.6758e-05\n",
      "Epoch 85/100\n",
      "142/142 [==============================] - 0s 2ms/step - loss: 1.1976e-05\n",
      "Epoch 86/100\n",
      "142/142 [==============================] - 0s 2ms/step - loss: 1.1128e-05\n",
      "Epoch 87/100\n",
      "142/142 [==============================] - 0s 2ms/step - loss: 1.0386e-05\n",
      "Epoch 88/100\n",
      "142/142 [==============================] - 0s 2ms/step - loss: 1.5541e-05\n",
      "Epoch 89/100\n",
      "142/142 [==============================] - 0s 2ms/step - loss: 1.2186e-05\n",
      "Epoch 90/100\n",
      "142/142 [==============================] - 0s 2ms/step - loss: 1.1163e-05\n",
      "Epoch 91/100\n",
      "142/142 [==============================] - 0s 2ms/step - loss: 1.0908e-05\n",
      "Epoch 92/100\n",
      "142/142 [==============================] - 0s 2ms/step - loss: 1.0065e-05\n",
      "Epoch 93/100\n",
      "142/142 [==============================] - 0s 2ms/step - loss: 1.3068e-05\n",
      "Epoch 94/100\n",
      "142/142 [==============================] - 0s 2ms/step - loss: 1.0952e-05\n",
      "Epoch 95/100\n",
      "142/142 [==============================] - 0s 2ms/step - loss: 1.1274e-05\n",
      "Epoch 96/100\n",
      "142/142 [==============================] - 0s 2ms/step - loss: 1.3414e-05\n",
      "Epoch 97/100\n",
      "142/142 [==============================] - 0s 2ms/step - loss: 1.4529e-05\n",
      "Epoch 98/100\n",
      "142/142 [==============================] - 0s 2ms/step - loss: 9.6028e-06\n",
      "Epoch 99/100\n",
      "142/142 [==============================] - 0s 2ms/step - loss: 1.1751e-05\n",
      "Epoch 100/100\n",
      "142/142 [==============================] - 0s 2ms/step - loss: 9.9972e-06\n"
     ]
    },
    {
     "data": {
      "text/plain": [
       "<keras.callbacks.History at 0x26c0aa1b208>"
      ]
     },
     "execution_count": 17,
     "metadata": {},
     "output_type": "execute_result"
    }
   ],
   "source": [
    "model = Sequential()\n",
    "model.add(LSTM(4, input_shape=(1, 1)))\n",
    "model.add(Dense(1))\n",
    "model.compile(loss='mean_squared_error', optimizer='adam')\n",
    "model.fit(x_train, y_train, epochs=100, batch_size=1)"
   ]
  },
  {
   "cell_type": "code",
   "execution_count": 18,
   "metadata": {},
   "outputs": [],
   "source": [
    "model.save(\"passenger_predict.h5\")"
   ]
  },
  {
   "cell_type": "code",
   "execution_count": 19,
   "metadata": {},
   "outputs": [],
   "source": [
    "y_predict = model.predict(x_train)\n",
    "y_predict = sc.inverse_transform(y_predict)\n",
    "y_train = sc.inverse_transform(y_train)"
   ]
  },
  {
   "cell_type": "code",
   "execution_count": 20,
   "metadata": {},
   "outputs": [
    {
     "data": {
      "text/plain": [
       "array([[116.28764],\n",
       "       [121.77124],\n",
       "       [134.71217],\n",
       "       [131.92247],\n",
       "       [124.5274 ],\n",
       "       [137.51067],\n",
       "       [149.73495],\n",
       "       [149.73495],\n",
       "       [138.4454 ],\n",
       "       [122.6889 ],\n",
       "       [109.03755],\n",
       "       [121.77124],\n",
       "       [119.0246 ],\n",
       "       [129.1417 ],\n",
       "       [143.13333],\n",
       "       [137.51067],\n",
       "       [128.21678],\n",
       "       [150.68163],\n",
       "       [170.754  ],\n",
       "       [170.754  ],\n",
       "       [159.24016],\n",
       "       [135.64403],\n",
       "       [118.1112 ],\n",
       "       [142.19388],\n",
       "       [146.9003 ],\n",
       "       [151.62915],\n",
       "       [178.49031],\n",
       "       [164.02385],\n",
       "       [172.68372],\n",
       "       [178.49031],\n",
       "       [199.00282],\n",
       "       [199.00282],\n",
       "       [184.32204],\n",
       "       [163.0655 ],\n",
       "       [147.84428],\n",
       "       [166.9036 ],\n",
       "       [171.71849],\n",
       "       [180.43149],\n",
       "       [193.11392],\n",
       "       [181.4031 ],\n",
       "       [183.34839],\n",
       "       [217.78107],\n",
       "       [229.72952],\n",
       "       [241.73488],\n",
       "       [208.86287],\n",
       "       [191.15576],\n",
       "       [172.68372],\n",
       "       [194.09392],\n",
       "       [196.05571],\n",
       "       [196.05571],\n",
       "       [235.72566],\n",
       "       [234.72537],\n",
       "       [228.7315 ],\n",
       "       [242.73761],\n",
       "       [263.8614 ],\n",
       "       [271.93616],\n",
       "       [236.72633],\n",
       "       [210.84122],\n",
       "       [180.43149],\n",
       "       [200.97044],\n",
       "       [203.92606],\n",
       "       [188.22318],\n",
       "       [234.72537],\n",
       "       [226.7367 ],\n",
       "       [233.72545],\n",
       "       [263.8614 ],\n",
       "       [302.2979 ],\n",
       "       [293.18005],\n",
       "       [258.82153],\n",
       "       [228.7315 ],\n",
       "       [202.94029],\n",
       "       [228.7315 ],\n",
       "       [241.73488],\n",
       "       [232.72589],\n",
       "       [266.88797],\n",
       "       [268.90668],\n",
       "       [269.91632],\n",
       "       [315.47336],\n",
       "       [365.0539 ],\n",
       "       [347.88123],\n",
       "       [312.43268],\n",
       "       [273.95673],\n",
       "       [236.72633],\n",
       "       [277.9998 ],\n",
       "       [284.06876],\n",
       "       [276.9888 ],\n",
       "       [317.50043],\n",
       "       [313.44626],\n",
       "       [318.51392],\n",
       "       [375.1329 ],\n",
       "       [414.22717],\n",
       "       [406.2395 ],\n",
       "       [355.96783],\n",
       "       [306.35153],\n",
       "       [270.92618],\n",
       "       [306.35153],\n",
       "       [315.47336],\n",
       "       [301.28455],\n",
       "       [356.97806],\n",
       "       [348.89255],\n",
       "       [355.96783],\n",
       "       [423.19122],\n",
       "       [465.66083],\n",
       "       [467.62057],\n",
       "       [405.23978],\n",
       "       [347.88123],\n",
       "       [305.33807],\n",
       "       [336.7497 ],\n",
       "       [340.79898],\n",
       "       [318.51392],\n",
       "       [363.0359 ],\n",
       "       [348.89255],\n",
       "       [364.04495],\n",
       "       [436.09558],\n",
       "       [491.02164],\n",
       "       [504.5703 ],\n",
       "       [405.23978],\n",
       "       [360.0077 ],\n",
       "       [310.40558],\n",
       "       [337.7621 ],\n",
       "       [361.01724],\n",
       "       [342.82303],\n",
       "       [407.23892],\n",
       "       [397.23264],\n",
       "       [421.2013 ],\n",
       "       [472.51358],\n",
       "       [545.69257],\n",
       "       [556.0902 ],\n",
       "       [463.69962],\n",
       "       [408.23813],\n",
       "       [363.0359 ],\n",
       "       [406.2395 ],\n",
       "       [418.21414],\n",
       "       [392.21988],\n",
       "       [420.2059 ],\n",
       "       [461.73694],\n",
       "       [472.51358],\n",
       "       [533.33984],\n",
       "       [614.6629 ],\n",
       "       [599.9455 ],\n",
       "       [507.46353],\n",
       "       [461.73694]], dtype=float32)"
      ]
     },
     "execution_count": 20,
     "metadata": {},
     "output_type": "execute_result"
    }
   ],
   "source": [
    "y_predict"
   ]
  },
  {
   "cell_type": "code",
   "execution_count": 21,
   "metadata": {},
   "outputs": [
    {
     "data": {
      "text/plain": [
       "array([[112.],\n",
       "       [118.],\n",
       "       [132.],\n",
       "       [129.],\n",
       "       [121.],\n",
       "       [135.],\n",
       "       [148.],\n",
       "       [148.],\n",
       "       [136.],\n",
       "       [119.],\n",
       "       [104.],\n",
       "       [118.],\n",
       "       [115.],\n",
       "       [126.],\n",
       "       [141.],\n",
       "       [135.],\n",
       "       [125.],\n",
       "       [149.],\n",
       "       [170.],\n",
       "       [170.],\n",
       "       [158.],\n",
       "       [133.],\n",
       "       [114.],\n",
       "       [140.],\n",
       "       [145.],\n",
       "       [150.],\n",
       "       [178.],\n",
       "       [163.],\n",
       "       [172.],\n",
       "       [178.],\n",
       "       [199.],\n",
       "       [199.],\n",
       "       [184.],\n",
       "       [162.],\n",
       "       [146.],\n",
       "       [166.],\n",
       "       [171.],\n",
       "       [180.],\n",
       "       [193.],\n",
       "       [181.],\n",
       "       [183.],\n",
       "       [218.],\n",
       "       [230.],\n",
       "       [242.],\n",
       "       [209.],\n",
       "       [191.],\n",
       "       [172.],\n",
       "       [194.],\n",
       "       [196.],\n",
       "       [196.],\n",
       "       [236.],\n",
       "       [235.],\n",
       "       [229.],\n",
       "       [243.],\n",
       "       [264.],\n",
       "       [272.],\n",
       "       [237.],\n",
       "       [211.],\n",
       "       [180.],\n",
       "       [201.],\n",
       "       [204.],\n",
       "       [188.],\n",
       "       [235.],\n",
       "       [227.],\n",
       "       [234.],\n",
       "       [264.],\n",
       "       [302.],\n",
       "       [293.],\n",
       "       [259.],\n",
       "       [229.],\n",
       "       [203.],\n",
       "       [229.],\n",
       "       [242.],\n",
       "       [233.],\n",
       "       [267.],\n",
       "       [269.],\n",
       "       [270.],\n",
       "       [315.],\n",
       "       [364.],\n",
       "       [347.],\n",
       "       [312.],\n",
       "       [274.],\n",
       "       [237.],\n",
       "       [278.],\n",
       "       [284.],\n",
       "       [277.],\n",
       "       [317.],\n",
       "       [313.],\n",
       "       [318.],\n",
       "       [374.],\n",
       "       [413.],\n",
       "       [405.],\n",
       "       [355.],\n",
       "       [306.],\n",
       "       [271.],\n",
       "       [306.],\n",
       "       [315.],\n",
       "       [301.],\n",
       "       [356.],\n",
       "       [348.],\n",
       "       [355.],\n",
       "       [422.],\n",
       "       [465.],\n",
       "       [467.],\n",
       "       [404.],\n",
       "       [347.],\n",
       "       [305.],\n",
       "       [336.],\n",
       "       [340.],\n",
       "       [318.],\n",
       "       [362.],\n",
       "       [348.],\n",
       "       [363.],\n",
       "       [435.],\n",
       "       [491.],\n",
       "       [505.],\n",
       "       [404.],\n",
       "       [359.],\n",
       "       [310.],\n",
       "       [337.],\n",
       "       [360.],\n",
       "       [342.],\n",
       "       [406.],\n",
       "       [396.],\n",
       "       [420.],\n",
       "       [472.],\n",
       "       [548.],\n",
       "       [559.],\n",
       "       [463.],\n",
       "       [407.],\n",
       "       [362.],\n",
       "       [405.],\n",
       "       [417.],\n",
       "       [391.],\n",
       "       [419.],\n",
       "       [461.],\n",
       "       [472.],\n",
       "       [535.],\n",
       "       [622.],\n",
       "       [606.],\n",
       "       [508.],\n",
       "       [461.]])"
      ]
     },
     "execution_count": 21,
     "metadata": {},
     "output_type": "execute_result"
    }
   ],
   "source": [
    "y_train"
   ]
  },
  {
   "cell_type": "code",
   "execution_count": 22,
   "metadata": {},
   "outputs": [
    {
     "data": {
      "text/plain": [
       "[<matplotlib.lines.Line2D at 0x26c0b5f0d48>]"
      ]
     },
     "execution_count": 22,
     "metadata": {},
     "output_type": "execute_result"
    },
    {
     "data": {
      "image/png": "[encoded data removed]",
      "text/plain": [
       "<Figure size 432x288 with 1 Axes>"
      ]
     },
     "metadata": {
      "needs_background": "light"
     },
     "output_type": "display_data"
    }
   ],
   "source": [
    "plt.plot(train_set)"
   ]
  },
  {
   "cell_type": "code",
   "execution_count": 23,
   "metadata": {},
   "outputs": [
    {
     "data": {
      "text/plain": [
       "[<matplotlib.lines.Line2D at 0x26c01888ac8>]"
      ]
     },
     "execution_count": 23,
     "metadata": {},
     "output_type": "execute_result"
    },
    {
     "data": {
      "image/png": "[encoded data removed]",
      "text/plain": [
       "<Figure size 432x288 with 1 Axes>"
      ]
     },
     "metadata": {
      "needs_background": "light"
     },
     "output_type": "display_data"
    }
   ],
   "source": [
    "plt.plot(train_set)\n",
    "plt.plot(y_predict)"
   ]
  },
  {
   "cell_type": "code",
   "execution_count": 24,
   "metadata": {},
   "outputs": [],
   "source": [
    "#We observe that it has predicted correctly"
   ]
  },
  {
   "cell_type": "code",
   "execution_count": 121,
   "metadata": {},
   "outputs": [
    {
     "name": "stdout",
     "output_type": "stream",
     "text": [
      "#Passengers    7.187275\n",
      "dtype: float64\n",
      "#Passengers    6.986597\n",
      "dtype: float64\n",
      "#Passengers    8.032109\n",
      "dtype: float64\n",
      "#Passengers    7.940441\n",
      "dtype: float64\n",
      "#Passengers    8.081659\n",
      "dtype: float64\n",
      "#Passengers    9.265912\n",
      "dtype: float64\n",
      "#Passengers    10.44521\n",
      "dtype: float64\n",
      "#Passengers    10.437777\n",
      "dtype: float64\n",
      "#Passengers    8.990908\n",
      "dtype: float64\n",
      "#Passengers    7.925575\n",
      "dtype: float64\n",
      "#Passengers    6.922181\n",
      "dtype: float64\n",
      "#Passengers    7.784357\n",
      "dtype: float64\n"
     ]
    }
   ],
   "source": [
    "#calculated percentage for pie chart\n",
    "j=0\n",
    "sum_2=0\n",
    "while(j<12):\n",
    "    sum=0\n",
    "    i=j\n",
    "    while(i<144):\n",
    "        sum=sum+train_set.loc[i]\n",
    "        i=i+12\n",
    "    print((sum/40363)*100)\n",
    "    sum_2=sum_2+(sum/40363)*100\n",
    "    j=j+1"
   ]
  },
  {
   "cell_type": "code",
   "execution_count": 122,
   "metadata": {},
   "outputs": [
    {
     "data": {
      "text/plain": [
       "#Passengers    100.0\n",
       "dtype: float64"
      ]
     },
     "execution_count": 122,
     "metadata": {},
     "output_type": "execute_result"
    }
   ],
   "source": [
    "sum_2"
   ]
  },
  {
   "cell_type": "code",
   "execution_count": null,
   "metadata": {},
   "outputs": [],
   "source": []
  }
 ],
 "metadata": {
  "kernelspec": {
   "display_name": "Python 3",
   "language": "python",
   "name": "python3"
  },
  "language_info": {
   "codemirror_mode": {
    "name": "ipython",
    "version": 3
   },
   "file_extension": ".py",
   "mimetype": "text/x-python",
   "name": "python",
   "nbconvert_exporter": "python",
   "pygments_lexer": "ipython3",
   "version": "3.7.6"
  }
 },
 "nbformat": 4,
 "nbformat_minor": 4
}
